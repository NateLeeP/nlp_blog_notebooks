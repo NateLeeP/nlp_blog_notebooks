{
 "cells": [
  {
   "cell_type": "code",
   "execution_count": 36,
   "id": "4d707d14",
   "metadata": {},
   "outputs": [],
   "source": [
    "from transformers import pipeline, AutoConfig, DistilBertForQuestionAnswering, AutoTokenizer"
   ]
  },
  {
   "cell_type": "code",
   "execution_count": 22,
   "id": "dbca631e",
   "metadata": {},
   "outputs": [],
   "source": [
    "### What do I want to do?\n",
    "\n",
    "## Use a transformer model to show how you can \"train\" your own chat bot\n",
    "\n",
    "## Need a transformer \"pre-trained\" for question answering. \n",
    "\n",
    "\n",
    "## Nice to pass in a data set\n"
   ]
  },
  {
   "cell_type": "code",
   "execution_count": 23,
   "id": "6de7850a",
   "metadata": {},
   "outputs": [
    {
     "name": "stdout",
     "output_type": "stream",
     "text": [
      "Answer: 'it is a wonderful city filled with possibility', score: 0.3579, start: 8, end: 54\n"
     ]
    }
   ],
   "source": [
    "## pipeline is a object from the huggyface 'transformers' library that can instantiate different model objects. \n",
    "question_answerer = pipeline(\"question-answering\", model='distilbert-base-cased-distilled-squad')\n",
    "\n",
    "answer = (\"Because it is a wonderful city filled with possibility. \" \n",
    "          \"It contains lots of restaurants, bars, single women\"\n",
    "          \"etc\")\n",
    "## pipeline accepts any model found in the huggyface \"hub\". That is a lot of models - selection can be overwhelming\n",
    "## Fortunately, there are filtering options and stars to indicate popular repos. The model we are using above\n",
    "## is one of top-rated for 'question-answering' NLP solutions\n",
    "\n",
    "result = question_answerer(question=\"Why should Chris stay in Chicago?\", context=answer)\n",
    "\n",
    "print(f\"Answer: '{result['answer']}', score: {round(result['score'], 4)}, start: {result['start']}, end: {result['end']}\")\n"
   ]
  },
  {
   "cell_type": "code",
   "execution_count": null,
   "id": "40492ee3",
   "metadata": {},
   "outputs": [],
   "source": [
    "## How can I train a model with a data set?\n",
    "# Because the model is already pre-trained, it is able to arrive at an answer. However, we may want to improve it on our own data\n"
   ]
  },
  {
   "cell_type": "code",
   "execution_count": null,
   "id": "df9b448a",
   "metadata": {},
   "outputs": [],
   "source": [
    "## Using a pipeline vs using a \"tokenizer\" and \"model\" class\n",
    "\n",
    "# A pipeline can be passed a model name, OR it can be passed a model and a tokenizer. This \"pre-loads\" the model and tokenzier\n",
    "\n",
    "\n",
    "## What is torch providing us? Why do we need it? Is it a hugging face dependency?\n"
   ]
  },
  {
   "cell_type": "code",
   "execution_count": 37,
   "id": "8f533151",
   "metadata": {},
   "outputs": [],
   "source": [
    "model = DistilBertForQuestionAnswering.from_pretrained('distilbert-base-cased-distilled-squad')\n",
    "tokenizer = AutoTokenizer.from_pretrained('distilbert-base-cased-distilled-squad')\n",
    "\n",
    "#This loads the model / tokenizer ahead of time - the pipeline does hti sfor you, but this allows you to preload it!!\n",
    "#Sounds like you can have configuration too??"
   ]
  },
  {
   "cell_type": "code",
   "execution_count": 28,
   "id": "a3f835d4",
   "metadata": {},
   "outputs": [
    {
     "name": "stdout",
     "output_type": "stream",
     "text": [
      "DistilBertConfig {\n",
      "  \"_name_or_path\": \"distilbert-base-cased-distilled-squad\",\n",
      "  \"activation\": \"gelu\",\n",
      "  \"architectures\": [\n",
      "    \"DistilBertForQuestionAnswering\"\n",
      "  ],\n",
      "  \"attention_dropout\": 0.2,\n",
      "  \"dim\": 768,\n",
      "  \"dropout\": 0.1,\n",
      "  \"hidden_dim\": 3072,\n",
      "  \"initializer_range\": 0.02,\n",
      "  \"max_position_embeddings\": 512,\n",
      "  \"model_type\": \"distilbert\",\n",
      "  \"n_heads\": 12,\n",
      "  \"n_layers\": 6,\n",
      "  \"output_past\": true,\n",
      "  \"pad_token_id\": 0,\n",
      "  \"qa_dropout\": 0.1,\n",
      "  \"seq_classif_dropout\": 0.2,\n",
      "  \"sinusoidal_pos_embds\": true,\n",
      "  \"tie_weights_\": true,\n",
      "  \"transformers_version\": \"4.26.1\",\n",
      "  \"vocab_size\": 28996\n",
      "}\n",
      "\n"
     ]
    }
   ],
   "source": [
    "bert_config = AutoConfig.from_pretrained('distilbert-base-cased-distilled-squad', attention_dropout=0.2)\n",
    "print(bert_config)"
   ]
  },
  {
   "cell_type": "code",
   "execution_count": 38,
   "id": "789f21d4",
   "metadata": {},
   "outputs": [],
   "source": [
    "## Is it worthwhile to mention the \"attention mask\" return of tokenizer\n",
    "generator = pipeline('question-answering', model=model, tokenizer=tokenizer)\n"
   ]
  },
  {
   "cell_type": "code",
   "execution_count": 39,
   "id": "9018aaa5",
   "metadata": {},
   "outputs": [
    {
     "name": "stdout",
     "output_type": "stream",
     "text": [
      "Answer: 'it is a wonderful city filled with possibility', score: 0.3579, start: 8, end: 54\n"
     ]
    }
   ],
   "source": [
    "answer = (\"Because it is a wonderful city filled with possibility. \" \n",
    "          \"It contains lots of restaurants, bars, single women\"\n",
    "          \"etc\")\n",
    "## pipeline accepts any model found in the huggyface \"hub\". That is a lot of models - selection can be overwhelming\n",
    "## Fortunately, there are filtering options and stars to indicate popular repos. The model we are using above\n",
    "## is one of top-rated for 'question-answering' NLP solutions\n",
    "\n",
    "result = generator(question=\"Why should Chris stay in Chicago?\", context=answer)\n",
    "\n",
    "print(f\"Answer: '{result['answer']}', score: {round(result['score'], 4)}, start: {result['start']}, end: {result['end']}\")\n"
   ]
  },
  {
   "cell_type": "code",
   "execution_count": null,
   "id": "94f9c19f",
   "metadata": {},
   "outputs": [],
   "source": [
    "# Received same answer from running it against \"model\". How else would I know the model is not correct??"
   ]
  }
 ],
 "metadata": {
  "kernelspec": {
   "display_name": "Python 3 (ipykernel)",
   "language": "python",
   "name": "python3"
  },
  "language_info": {
   "codemirror_mode": {
    "name": "ipython",
    "version": 3
   },
   "file_extension": ".py",
   "mimetype": "text/x-python",
   "name": "python",
   "nbconvert_exporter": "python",
   "pygments_lexer": "ipython3",
   "version": "3.9.13"
  }
 },
 "nbformat": 4,
 "nbformat_minor": 5
}
